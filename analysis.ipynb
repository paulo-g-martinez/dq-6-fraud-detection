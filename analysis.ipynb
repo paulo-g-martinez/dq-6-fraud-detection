{
 "cells": [
  {
   "cell_type": "code",
   "execution_count": 2,
   "metadata": {
    "collapsed": true
   },
   "outputs": [],
   "source": [
    "import pandas as pd \n",
    "import numpy as np\n",
    "from datetime import datetime \n",
    "import matplotlib.pyplot as plt\n",
    "import gc"
   ]
  },
  {
   "cell_type": "code",
   "execution_count": 10,
   "metadata": {
    "collapsed": true
   },
   "outputs": [],
   "source": [
    "dtype_dict = {\n",
    "    'Id' : 'uint64', \n",
    "    'EquipmentID' : 'category', \n",
    "    'DriverID' : 'category', \n",
    "    'Latitude' : 'float64', \n",
    "    'Longitude' : 'float64', \n",
    "    'Speed' : 'uint16', \n",
    "    'Odometer' : 'float64', \n",
    "    'IgnitionStatus' : 'category', \n",
    "    'EFReportReason' : 'category', \n",
    "    'TankLevelPercent' : 'float32', \n",
    "    'TankLevelGallons' : 'float32', \n",
    "    'ExactFuelEventId' : 'uint64', \n",
    "    'truck' : 'category', \n",
    "    'tankcap' : 'uint16', \n",
    "    'refuel_tr_sum' : 'float32', \n",
    "    'refuel_tr_id' : 'category' }\n",
    "col_names = ['idx1', 'idx2', 'Id', 'EventTimeStamp', 'EquipmentID', 'DriverID', 'Latitude',\n",
    "       'Longitude', 'LocationTimeStamp', 'Speed', 'Odometer', 'IgnitionStatus',\n",
    "       'EFReportReason', 'TankLevelPercent', 'TankLevelGallons',\n",
    "       'ExactFuelEventId', 'truck', 'tankcap', 'refuel_datetime',\n",
    "       'refuel_tr_sum', 'refuel_tr_id']\n",
    "date_cols = ['EventTimeStamp', 'LocationTimeStamp', 'refuel_datetime' ]"
   ]
  },
  {
   "cell_type": "code",
   "execution_count": 15,
   "metadata": {
    "collapsed": true,
    "scrolled": true
   },
   "outputs": [],
   "source": [
    "events_levels_df = pd.read_csv('big_files/events_levels_df.gz', skiprows=1, names=col_names,\n",
    "                               dtype=dtype_dict, usecols=np.arange(2,19), \n",
    "                              parse_dates = date_cols, infer_datetime_format = True)"
   ]
  },
  {
   "cell_type": "code",
   "execution_count": 16,
   "metadata": {
    "scrolled": true
   },
   "outputs": [
    {
     "name": "stdout",
     "output_type": "stream",
     "text": [
      "<class 'pandas.core.frame.DataFrame'>\n",
      "RangeIndex: 7908406 entries, 0 to 7908405\n",
      "Data columns (total 17 columns):\n",
      "Id                   7908406 non-null uint64\n",
      "EventTimeStamp       7908406 non-null datetime64[ns]\n",
      "EquipmentID          7908406 non-null category\n",
      "DriverID             7798523 non-null category\n",
      "Latitude             7908406 non-null float64\n",
      "Longitude            7908406 non-null float64\n",
      "LocationTimeStamp    7908406 non-null datetime64[ns]\n",
      "Speed                7908406 non-null uint16\n",
      "Odometer             7908406 non-null float64\n",
      "IgnitionStatus       7908406 non-null category\n",
      "EFReportReason       7908406 non-null category\n",
      "TankLevelPercent     7908406 non-null float32\n",
      "TankLevelGallons     7908406 non-null float32\n",
      "ExactFuelEventId     7908406 non-null uint64\n",
      "truck                7908406 non-null category\n",
      "tankcap              7908406 non-null uint16\n",
      "refuel_datetime      7795833 non-null datetime64[ns]\n",
      "dtypes: category(5), datetime64[ns](3), float32(2), float64(3), uint16(2), uint64(2)\n",
      "memory usage: 633.7 MB\n"
     ]
    }
   ],
   "source": [
    "events_levels_df.info(memory_usage='deep', null_counts=True)"
   ]
  },
  {
   "cell_type": "code",
   "execution_count": 17,
   "metadata": {},
   "outputs": [
    {
     "data": {
      "text/plain": [
       "(7908406, 17)"
      ]
     },
     "execution_count": 17,
     "metadata": {},
     "output_type": "execute_result"
    }
   ],
   "source": [
    "events_levels_df.shape"
   ]
  },
  {
   "cell_type": "code",
   "execution_count": 19,
   "metadata": {},
   "outputs": [
    {
     "data": {
      "text/plain": [
       "15594"
      ]
     },
     "execution_count": 19,
     "metadata": {},
     "output_type": "execute_result"
    }
   ],
   "source": [
    "gc.collect()"
   ]
  },
  {
   "cell_type": "code",
   "execution_count": 20,
   "metadata": {
    "collapsed": true
   },
   "outputs": [],
   "source": [
    "bad_ids = pd.read_csv('bad_ids.csv', header=None, names=['Id']).Id.tolist()\n",
    "# Create boolean series to remove rows with bad odometer readings\n",
    "keep_ids = events_levels_df.Id.isin(bad_ids) == False\n"
   ]
  },
  {
   "cell_type": "code",
   "execution_count": 22,
   "metadata": {},
   "outputs": [
    {
     "data": {
      "text/plain": [
       "411"
      ]
     },
     "execution_count": 22,
     "metadata": {},
     "output_type": "execute_result"
    }
   ],
   "source": [
    "np.sum(keep_ids == False) "
   ]
  }
 ],
 "metadata": {
  "kernelspec": {
   "display_name": "Python 3",
   "language": "python",
   "name": "python3"
  },
  "language_info": {
   "codemirror_mode": {
    "name": "ipython",
    "version": 3
   },
   "file_extension": ".py",
   "mimetype": "text/x-python",
   "name": "python",
   "nbconvert_exporter": "python",
   "pygments_lexer": "ipython3",
   "version": "3.6.1"
  }
 },
 "nbformat": 4,
 "nbformat_minor": 2
}
